{
  "nbformat": 4,
  "nbformat_minor": 0,
  "metadata": {
    "colab": {
      "provenance": [],
      "authorship_tag": "ABX9TyPio8z4dSIi3oMgdAbkEByl",
      "include_colab_link": true
    },
    "kernelspec": {
      "name": "python3",
      "display_name": "Python 3"
    },
    "language_info": {
      "name": "python"
    }
  },
  "cells": [
    {
      "cell_type": "markdown",
      "metadata": {
        "id": "view-in-github",
        "colab_type": "text"
      },
      "source": [
        "<a href=\"https://colab.research.google.com/github/BlackPeppercorn/Code-Challenge/blob/master/Homework1.ipynb\" target=\"_parent\"><img src=\"https://colab.research.google.com/assets/colab-badge.svg\" alt=\"Open In Colab\"/></a>"
      ]
    },
    {
      "cell_type": "markdown",
      "source": [
        "# Homework 1:\n",
        "\n",
        "## Main topics:\n",
        "\n",
        "\n",
        "*   Orthonormailty\n",
        "*   Gram-schmidt Process\n",
        "*   Eigenvalues\n",
        "*   Eigenvectors\n"
      ],
      "metadata": {
        "id": "ximvALxdwfF5"
      }
    },
    {
      "cell_type": "code",
      "source": [
        "import numpy as np"
      ],
      "metadata": {
        "id": "08s8sKliwMDD"
      },
      "execution_count": 1,
      "outputs": []
    },
    {
      "cell_type": "markdown",
      "source": [
        "The following code checks if vectors are ornthonormal and if they are not, the gram-schmidt process is applied to normalize the vectors"
      ],
      "metadata": {
        "id": "BTXZyE-txDZP"
      }
    },
    {
      "cell_type": "code",
      "execution_count": 2,
      "metadata": {
        "id": "npBjEGwTvZIV"
      },
      "outputs": [],
      "source": [
        "def is_orthonormal(vectors):\n",
        "    for i in range(len(vectors)):\n",
        "        for j in range(i, len(vectors)):\n",
        "            dot_product = np.dot(vectors[i], vectors[j])\n",
        "            if i == j:\n",
        "                if not np.isclose(dot_product, 1):\n",
        "                    return False\n",
        "            else:\n",
        "                if not np.isclose(dot_product, 0):\n",
        "                    return False\n",
        "    return True"
      ]
    },
    {
      "cell_type": "code",
      "source": [
        "def gram_schmidt(vectors):\n",
        "    orthonormal_vectors = []\n",
        "    for v in vectors:\n",
        "        w = v - sum(np.dot(v, u) * u for u in orthonormal_vectors)\n",
        "        w = w / np.linalg.norm(w)\n",
        "        orthonormal_vectors.append(w)\n",
        "    return orthonormal_vectors"
      ],
      "metadata": {
        "id": "5uqDZBSSwIrK"
      },
      "execution_count": 4,
      "outputs": []
    },
    {
      "cell_type": "code",
      "source": [
        "vectors = np.array([[1, 1, 0], [1, 0, 1], [0, 1, 1]])\n",
        "\n",
        "if is_orthonormal(vectors):\n",
        "    print(\"The vectors are already orthonormal.\")\n",
        "else:\n",
        "    print(\"The vectors are not orthonormal. Proceeding to orthonormalize them using Gram-Schmidt process...\")\n",
        "\n",
        "    orthonormal_vectors = gram_schmidt(vectors)\n",
        "\n",
        "    print(\"Orthonormal vectors:\")\n",
        "    for vec in orthonormal_vectors:\n",
        "        print(vec)\n",
        "\n",
        "    if is_orthonormal(orthonormal_vectors):\n",
        "        print(\"The vectors are now orthonormal.\")\n",
        "    else:\n",
        "        print(\"There was an error in orthonormalizing the vectors.\")"
      ],
      "metadata": {
        "colab": {
          "base_uri": "https://localhost:8080/"
        },
        "id": "ILNmNgMOwVew",
        "outputId": "a3d12874-a370-4158-eb1c-8d2e1219f782"
      },
      "execution_count": 5,
      "outputs": [
        {
          "output_type": "stream",
          "name": "stdout",
          "text": [
            "The vectors are not orthonormal. Proceeding to orthonormalize them using Gram-Schmidt process...\n",
            "Orthonormal vectors:\n",
            "[0.70710678 0.70710678 0.        ]\n",
            "[ 0.40824829 -0.40824829  0.81649658]\n",
            "[-0.57735027  0.57735027  0.57735027]\n",
            "The vectors are now orthonormal.\n"
          ]
        }
      ]
    },
    {
      "cell_type": "markdown",
      "source": [
        "The following code finds the eigenvalues and corresponding eigenvectors of a matrix"
      ],
      "metadata": {
        "id": "hVGzbczmxVyp"
      }
    },
    {
      "cell_type": "code",
      "source": [
        "import numpy as np\n",
        "\n",
        "A = np.array([[4, -2],\n",
        "              [1,  1]])\n",
        "\n",
        "eigenvalues, eigenvectors = np.linalg.eig(A)\n",
        "\n",
        "print(\"Eigenvalues:\")\n",
        "print(eigenvalues)\n",
        "\n",
        "print(\"\\nEigenvectors:\")\n",
        "print(eigenvectors)\n",
        "\n",
        "print(\"\\nVerification of the eigenvalue equation A * v = λ * v:\")\n",
        "for i in range(len(eigenvalues)):\n",
        "    v = eigenvectors[:, i]\n",
        "\n",
        "    Av = np.dot(A, v)\n",
        "\n",
        "    lambda_v = eigenvalues[i] * v\n",
        "\n",
        "    print(f\"\\nEigenvalue {i+1}: λ = {eigenvalues[i]}\")\n",
        "    print(f\"A * v = {Av}\")\n",
        "    print(f\"λ * v = {lambda_v}\")\n",
        "\n",
        "    if np.allclose(Av, lambda_v):\n",
        "        print(\"The equation A * v = λ * v is satisfied.\")\n",
        "    else:\n",
        "        print(\"The equation A * v = λ * v is NOT satisfied.\")\n",
        "\n"
      ],
      "metadata": {
        "colab": {
          "base_uri": "https://localhost:8080/"
        },
        "id": "cxzAivzHxeEz",
        "outputId": "41db0aaf-3e5f-4d29-9fe5-9cae53bebb54"
      },
      "execution_count": 6,
      "outputs": [
        {
          "output_type": "stream",
          "name": "stdout",
          "text": [
            "Eigenvalues:\n",
            "[3. 2.]\n",
            "\n",
            "Eigenvectors:\n",
            "[[0.89442719 0.70710678]\n",
            " [0.4472136  0.70710678]]\n",
            "\n",
            "Verification of the eigenvalue equation A * v = λ * v:\n",
            "\n",
            "Eigenvalue 1: λ = 3.0\n",
            "A * v = [2.68328157 1.34164079]\n",
            "λ * v = [2.68328157 1.34164079]\n",
            "The equation A * v = λ * v is satisfied.\n",
            "\n",
            "Eigenvalue 2: λ = 2.0\n",
            "A * v = [1.41421356 1.41421356]\n",
            "λ * v = [1.41421356 1.41421356]\n",
            "The equation A * v = λ * v is satisfied.\n"
          ]
        }
      ]
    }
  ]
}