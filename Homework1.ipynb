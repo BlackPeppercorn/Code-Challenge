{
  "nbformat": 4,
  "nbformat_minor": 0,
  "metadata": {
    "colab": {
      "provenance": [],
      "authorship_tag": "ABX9TyMZKOS/09BMLcVAG8x2mZj3",
      "include_colab_link": true
    },
    "kernelspec": {
      "name": "python3",
      "display_name": "Python 3"
    },
    "language_info": {
      "name": "python"
    }
  },
  "cells": [
    {
      "cell_type": "markdown",
      "metadata": {
        "id": "view-in-github",
        "colab_type": "text"
      },
      "source": [
        "<a href=\"https://colab.research.google.com/github/BlackPeppercorn/Code-Challenge/blob/master/Homework1.ipynb\" target=\"_parent\"><img src=\"https://colab.research.google.com/assets/colab-badge.svg\" alt=\"Open In Colab\"/></a>"
      ]
    },
    {
      "cell_type": "markdown",
      "source": [
        "# Homework 1:\n",
        "\n",
        "## Main topics:\n",
        "\n",
        "\n",
        "\n",
        "*   Linear Spaces\n",
        "*   Orthonormailty\n",
        "*   Gram-schmidt Process\n",
        "*   Eigenvalues\n",
        "*   Eigenvectors\n"
      ],
      "metadata": {
        "id": "ximvALxdwfF5"
      }
    },
    {
      "cell_type": "code",
      "source": [
        "import numpy as np"
      ],
      "metadata": {
        "id": "08s8sKliwMDD"
      },
      "execution_count": 1,
      "outputs": []
    },
    {
      "cell_type": "markdown",
      "source": [
        "The following code demonstartes an understanding of linear spaces\n",
        "\n",
        "It checks if a vectors are closed under vector addiction and scalar multiplication and if the vectors form a linear subspace"
      ],
      "metadata": {
        "id": "3qJDorFoyMBN"
      }
    },
    {
      "cell_type": "code",
      "source": [
        "v1 = np.array([1, 2, 3])\n",
        "v2 = np.array([4, 5, 6])\n",
        "v3 = np.array([7, 8, 9])\n",
        "\n",
        "v_sum = v1 + v2\n",
        "print(\"Vector Addition:\")\n",
        "print(f\"v1 + v2 = {v_sum}\")\n",
        "\n",
        "scalar = 3\n",
        "v_scaled = scalar * v1\n",
        "print(\"\\nScalar Multiplication:\")\n",
        "print(f\"{scalar} * v1 = {v_scaled}\")"
      ],
      "metadata": {
        "colab": {
          "base_uri": "https://localhost:8080/"
        },
        "id": "LvmXlzbDyK_j",
        "outputId": "9af8a702-5eb8-45a3-f40c-9d70f271e7ee"
      },
      "execution_count": 7,
      "outputs": [
        {
          "output_type": "stream",
          "name": "stdout",
          "text": [
            "Vector Addition:\n",
            "v1 + v2 = [5 7 9]\n",
            "\n",
            "Scalar Multiplication:\n",
            "3 * v1 = [3 6 9]\n"
          ]
        }
      ]
    },
    {
      "cell_type": "code",
      "source": [
        "def is_subspace(vectors):\n",
        "    zero_vector = np.zeros_like(vectors[0])\n",
        "    if not np.any([np.array_equal(v, zero_vector) for v in vectors]):\n",
        "        return False, \"The set does not include the zero vector.\"\n",
        "\n",
        "    for i in range(len(vectors)):\n",
        "        for j in range(i, len(vectors)):\n",
        "            if not np.any([np.array_equal(vectors[i] + vectors[j], v) for v in vectors]):\n",
        "                return False, \"The set is not closed under addition.\"\n",
        "\n",
        "    for v in vectors:\n",
        "        for scalar in [2, -1]:\n",
        "            if not np.any([np.array_equal(scalar * v, u) for u in vectors]):\n",
        "                return False, \"The set is not closed under scalar multiplication.\"\n",
        "\n",
        "    return True, \"The set forms a subspace.\""
      ],
      "metadata": {
        "id": "5dm092j0y_3Y"
      },
      "execution_count": 8,
      "outputs": []
    },
    {
      "cell_type": "code",
      "source": [
        "vector_set = np.array([v1, v2, v3])\n",
        "\n",
        "is_subspace_result, message = is_subspace(vector_set)\n",
        "print(\"\\nSubspace Check:\")\n",
        "print(message)\n",
        "\n",
        "valid_subspace = np.array([v1, v2, v1 + v2, np.zeros(3)])\n",
        "\n",
        "is_valid_subspace, valid_message = is_subspace(valid_subspace)\n",
        "print(\"\\nValid Subspace Check:\")\n",
        "print(valid_message)"
      ],
      "metadata": {
        "colab": {
          "base_uri": "https://localhost:8080/"
        },
        "id": "kny6Q5zQzDEd",
        "outputId": "12b732ed-f9d3-4f7c-8e96-c0175ccbb14b"
      },
      "execution_count": 9,
      "outputs": [
        {
          "output_type": "stream",
          "name": "stdout",
          "text": [
            "\n",
            "Subspace Check:\n",
            "The set does not include the zero vector.\n",
            "\n",
            "Valid Subspace Check:\n",
            "The set is not closed under addition.\n"
          ]
        }
      ]
    },
    {
      "cell_type": "markdown",
      "source": [
        "The following code checks if vectors are ornthonormal and if they are not, the gram-schmidt process is applied to normalize the vectors"
      ],
      "metadata": {
        "id": "BTXZyE-txDZP"
      }
    },
    {
      "cell_type": "code",
      "execution_count": 2,
      "metadata": {
        "id": "npBjEGwTvZIV"
      },
      "outputs": [],
      "source": [
        "def is_orthonormal(vectors):\n",
        "    for i in range(len(vectors)):\n",
        "        for j in range(i, len(vectors)):\n",
        "            dot_product = np.dot(vectors[i], vectors[j])\n",
        "            if i == j:\n",
        "                if not np.isclose(dot_product, 1):\n",
        "                    return False\n",
        "            else:\n",
        "                if not np.isclose(dot_product, 0):\n",
        "                    return False\n",
        "    return True"
      ]
    },
    {
      "cell_type": "code",
      "source": [
        "def gram_schmidt(vectors):\n",
        "    orthonormal_vectors = []\n",
        "    for v in vectors:\n",
        "        w = v - sum(np.dot(v, u) * u for u in orthonormal_vectors)\n",
        "        w = w / np.linalg.norm(w)\n",
        "        orthonormal_vectors.append(w)\n",
        "    return orthonormal_vectors"
      ],
      "metadata": {
        "id": "5uqDZBSSwIrK"
      },
      "execution_count": 4,
      "outputs": []
    },
    {
      "cell_type": "code",
      "source": [
        "vectors = np.array([[1, 1, 0], [1, 0, 1], [0, 1, 1]])\n",
        "\n",
        "if is_orthonormal(vectors):\n",
        "    print(\"The vectors are already orthonormal.\")\n",
        "else:\n",
        "    print(\"The vectors are not orthonormal. Proceeding to orthonormalize them using Gram-Schmidt process...\")\n",
        "\n",
        "    orthonormal_vectors = gram_schmidt(vectors)\n",
        "\n",
        "    print(\"Orthonormal vectors:\")\n",
        "    for vec in orthonormal_vectors:\n",
        "        print(vec)\n",
        "\n",
        "    if is_orthonormal(orthonormal_vectors):\n",
        "        print(\"The vectors are now orthonormal.\")\n",
        "    else:\n",
        "        print(\"There was an error in orthonormalizing the vectors.\")"
      ],
      "metadata": {
        "colab": {
          "base_uri": "https://localhost:8080/"
        },
        "id": "ILNmNgMOwVew",
        "outputId": "a3d12874-a370-4158-eb1c-8d2e1219f782"
      },
      "execution_count": 5,
      "outputs": [
        {
          "output_type": "stream",
          "name": "stdout",
          "text": [
            "The vectors are not orthonormal. Proceeding to orthonormalize them using Gram-Schmidt process...\n",
            "Orthonormal vectors:\n",
            "[0.70710678 0.70710678 0.        ]\n",
            "[ 0.40824829 -0.40824829  0.81649658]\n",
            "[-0.57735027  0.57735027  0.57735027]\n",
            "The vectors are now orthonormal.\n"
          ]
        }
      ]
    },
    {
      "cell_type": "markdown",
      "source": [
        "The following code finds the eigenvalues and corresponding eigenvectors of a matrix"
      ],
      "metadata": {
        "id": "hVGzbczmxVyp"
      }
    },
    {
      "cell_type": "code",
      "source": [
        "A = np.array([[4, -2],\n",
        "              [1,  1]])\n",
        "\n",
        "eigenvalues, eigenvectors = np.linalg.eig(A)\n",
        "\n",
        "print(\"Eigenvalues:\")\n",
        "print(eigenvalues)\n",
        "\n",
        "print(\"\\nEigenvectors:\")\n",
        "print(eigenvectors)\n",
        "\n",
        "print(\"\\nVerification of the eigenvalue equation A * v = λ * v:\")\n",
        "for i in range(len(eigenvalues)):\n",
        "    v = eigenvectors[:, i]\n",
        "\n",
        "    Av = np.dot(A, v)\n",
        "\n",
        "    lambda_v = eigenvalues[i] * v\n",
        "\n",
        "    print(f\"\\nEigenvalue {i+1}: λ = {eigenvalues[i]}\")\n",
        "    print(f\"A * v = {Av}\")\n",
        "    print(f\"λ * v = {lambda_v}\")\n",
        "\n",
        "    if np.allclose(Av, lambda_v):\n",
        "        print(\"The equation A * v = λ * v is satisfied.\")\n",
        "    else:\n",
        "        print(\"The equation A * v = λ * v is NOT satisfied.\")\n",
        "\n"
      ],
      "metadata": {
        "colab": {
          "base_uri": "https://localhost:8080/"
        },
        "id": "cxzAivzHxeEz",
        "outputId": "41db0aaf-3e5f-4d29-9fe5-9cae53bebb54"
      },
      "execution_count": 6,
      "outputs": [
        {
          "output_type": "stream",
          "name": "stdout",
          "text": [
            "Eigenvalues:\n",
            "[3. 2.]\n",
            "\n",
            "Eigenvectors:\n",
            "[[0.89442719 0.70710678]\n",
            " [0.4472136  0.70710678]]\n",
            "\n",
            "Verification of the eigenvalue equation A * v = λ * v:\n",
            "\n",
            "Eigenvalue 1: λ = 3.0\n",
            "A * v = [2.68328157 1.34164079]\n",
            "λ * v = [2.68328157 1.34164079]\n",
            "The equation A * v = λ * v is satisfied.\n",
            "\n",
            "Eigenvalue 2: λ = 2.0\n",
            "A * v = [1.41421356 1.41421356]\n",
            "λ * v = [1.41421356 1.41421356]\n",
            "The equation A * v = λ * v is satisfied.\n"
          ]
        }
      ]
    }
  ]
}