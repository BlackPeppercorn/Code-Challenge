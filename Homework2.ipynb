{
  "nbformat": 4,
  "nbformat_minor": 0,
  "metadata": {
    "colab": {
      "provenance": [],
      "authorship_tag": "ABX9TyMNHoHpt4VdUSP4Ovs2zf7B",
      "include_colab_link": true
    },
    "kernelspec": {
      "name": "python3",
      "display_name": "Python 3"
    },
    "language_info": {
      "name": "python"
    }
  },
  "cells": [
    {
      "cell_type": "markdown",
      "metadata": {
        "id": "view-in-github",
        "colab_type": "text"
      },
      "source": [
        "<a href=\"https://colab.research.google.com/github/BlackPeppercorn/Code-Challenge/blob/master/Homework2.ipynb\" target=\"_parent\"><img src=\"https://colab.research.google.com/assets/colab-badge.svg\" alt=\"Open In Colab\"/></a>"
      ]
    },
    {
      "cell_type": "markdown",
      "source": [
        "# Homework 2\n",
        "\n",
        "\n",
        "*   QR Decomposition\n",
        "*   Least Squares Problem\n",
        "*   Linear Regression\n",
        "\n"
      ],
      "metadata": {
        "id": "n5GGVNK-907i"
      }
    },
    {
      "cell_type": "code",
      "execution_count": 1,
      "metadata": {
        "id": "MX5Oi54g9eIl"
      },
      "outputs": [],
      "source": [
        "import numpy as np"
      ]
    },
    {
      "cell_type": "code",
      "source": [
        "def qr_decomposition(A):\n",
        "    Q, R = np.linalg.qr(A)\n",
        "    return Q, R\n",
        "\n",
        "A = np.array([[1, 2], [3, 4], [5, 6]])\n",
        "\n",
        "Q, R = qr_decomposition(A)\n",
        "\n",
        "print(\"Matrix A:\")\n",
        "print(A)\n",
        "print(\"\\nOrthogonal matrix Q:\")\n",
        "print(Q)\n",
        "print(\"\\nUpper triangular matrix R:\")\n",
        "print(R)"
      ],
      "metadata": {
        "colab": {
          "base_uri": "https://localhost:8080/"
        },
        "id": "ils1iLtm9nMo",
        "outputId": "9d5b2a20-8256-49ea-85ee-4d6b4d89667c"
      },
      "execution_count": 2,
      "outputs": [
        {
          "output_type": "stream",
          "name": "stdout",
          "text": [
            "Matrix A:\n",
            "[[1 2]\n",
            " [3 4]\n",
            " [5 6]]\n",
            "\n",
            "Orthogonal matrix Q:\n",
            "[[-0.16903085  0.89708523]\n",
            " [-0.50709255  0.27602622]\n",
            " [-0.84515425 -0.34503278]]\n",
            "\n",
            "Upper triangular matrix R:\n",
            "[[-5.91607978 -7.43735744]\n",
            " [ 0.          0.82807867]]\n"
          ]
        }
      ]
    },
    {
      "cell_type": "markdown",
      "source": [
        "What it does:\n",
        "\n",
        "The program uses NumPy's linalg.qr() function to decompose a matrix A into an orthogonal matrix Q and an upper triangular matrix R.\n",
        "QR decomposition is useful for solving linear systems, among other applications, as it breaks down a matrix into components that are easier to work with."
      ],
      "metadata": {
        "id": "RzmMI7ua-EtH"
      }
    },
    {
      "cell_type": "code",
      "source": [
        "def least_squares(A, b):\n",
        "    Q, R = np.linalg.qr(A)\n",
        "    return np.linalg.solve(R, Q.T @ b)\n",
        "\n",
        "A = np.array([[1, 1], [1, 2], [1, 3]])\n",
        "b = np.array([1, 2, 2])\n",
        "\n",
        "x = least_squares(A, b)\n",
        "\n",
        "print(\"Matrix A:\")\n",
        "print(A)\n",
        "print(\"\\nVector b:\")\n",
        "print(b)\n",
        "print(\"\\nSolution x to the least-squares problem:\")\n",
        "print(x)"
      ],
      "metadata": {
        "colab": {
          "base_uri": "https://localhost:8080/"
        },
        "id": "rTD_skK19jv0",
        "outputId": "a807e95a-e3cf-40b9-9b93-1e6364478d74"
      },
      "execution_count": 3,
      "outputs": [
        {
          "output_type": "stream",
          "name": "stdout",
          "text": [
            "Matrix A:\n",
            "[[1 1]\n",
            " [1 2]\n",
            " [1 3]]\n",
            "\n",
            "Vector b:\n",
            "[1 2 2]\n",
            "\n",
            "Solution x to the least-squares problem:\n",
            "[0.66666667 0.5       ]\n"
          ]
        }
      ]
    },
    {
      "cell_type": "markdown",
      "source": [
        "What it does:\n",
        "\n",
        "The program first decomposes matrix A using QR decomposition.\n",
        "It then solves the upper triangular system Rx = Q^T b using back substitution to find the least-squares solution.\n",
        "This approach minimizes the squared differences between the observed values (b) and the values predicted by the linear model (Ax)."
      ],
      "metadata": {
        "id": "z6RJvKpN-JPJ"
      }
    },
    {
      "cell_type": "code",
      "source": [
        "import matplotlib.pyplot as plt"
      ],
      "metadata": {
        "id": "6Qp_Alga9qYY"
      },
      "execution_count": 5,
      "outputs": []
    },
    {
      "cell_type": "code",
      "source": [
        "def linear_regression(X, y):\n",
        "    X_b = np.c_[np.ones((X.shape[0], 1)), X]\n",
        "    theta_best = np.linalg.inv(X_b.T @ X_b) @ X_b.T @ y\n",
        "    return theta_best\n",
        "\n",
        "X = 2 * np.random.rand(100, 1)\n",
        "y = 4 + 3 * X + np.random.randn(100, 1)\n",
        "\n",
        "theta = linear_regression(X, y)\n",
        "\n",
        "plt.plot(X, y, \"b.\")\n",
        "plt.plot(X, theta[0] + theta[1] * X, \"r-\")\n",
        "plt.xlabel(\"X\")\n",
        "plt.ylabel(\"y\")\n",
        "plt.title(\"Linear Regression\")\n",
        "plt.show()\n",
        "\n",
        "print(\"Estimated parameters (theta):\")\n",
        "print(theta)"
      ],
      "metadata": {
        "colab": {
          "base_uri": "https://localhost:8080/",
          "height": 524
        },
        "id": "rYp_3TuD9rgW",
        "outputId": "193900d7-7fbb-4fa7-bd48-f273a8f854c7"
      },
      "execution_count": 6,
      "outputs": [
        {
          "output_type": "display_data",
          "data": {
            "text/plain": [
              "<Figure size 640x480 with 1 Axes>"
            ],
            "image/png": "[encoded data removed]"
          },
          "metadata": {}
        },
        {
          "output_type": "stream",
          "name": "stdout",
          "text": [
            "Estimated parameters (theta):\n",
            "[[3.75945012]\n",
            " [3.1056682 ]]\n"
          ]
        }
      ]
    },
    {
      "cell_type": "markdown",
      "source": [
        "What it does:\n",
        "\n",
        "The program creates a synthetic dataset X and y where y is linearly dependent on X with some added noise.\n",
        "It adds a column of ones to X to account for the intercept in the linear model.\n",
        "It then calculates the parameters theta that minimize the sum of squared errors between the observed values y and the predicted values using the normal equation.\n",
        "Finally, the program plots the data points and the fitted line."
      ],
      "metadata": {
        "id": "qF0OZ63L-U1G"
      }
    }
  ]
}