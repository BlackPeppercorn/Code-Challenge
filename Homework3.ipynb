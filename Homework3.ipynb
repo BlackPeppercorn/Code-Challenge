{
  "nbformat": 4,
  "nbformat_minor": 0,
  "metadata": {
    "colab": {
      "provenance": [],
      "authorship_tag": "ABX9TyM8AwtlmER9neo4VIjoE5o+",
      "include_colab_link": true
    },
    "kernelspec": {
      "name": "python3",
      "display_name": "Python 3"
    },
    "language_info": {
      "name": "python"
    }
  },
  "cells": [
    {
      "cell_type": "markdown",
      "metadata": {
        "id": "view-in-github",
        "colab_type": "text"
      },
      "source": [
        "<a href=\"https://colab.research.google.com/github/BlackPeppercorn/Code-Challenge/blob/master/Homework3.ipynb\" target=\"_parent\"><img src=\"https://colab.research.google.com/assets/colab-badge.svg\" alt=\"Open In Colab\"/></a>"
      ]
    },
    {
      "cell_type": "markdown",
      "source": [
        "# Homework 3\n",
        "\n",
        "\n",
        "*   Singular Value Decomposition\n",
        "*   Low-rank matrix approximations\n",
        "*   Principal component analysis\n",
        "\n"
      ],
      "metadata": {
        "id": "vpxvbD4ABIzM"
      }
    },
    {
      "cell_type": "code",
      "execution_count": 2,
      "metadata": {
        "colab": {
          "base_uri": "https://localhost:8080/"
        },
        "id": "vFq6pOAUAjrI",
        "outputId": "3f22201c-6b42-4a79-bf99-1429d407244f"
      },
      "outputs": [
        {
          "output_type": "stream",
          "name": "stdout",
          "text": [
            "U matrix:\n",
            " [[-0.57701076  0.2607808   0.41636556  0.65245051]\n",
            " [-0.41286194  0.17531299  0.48967242 -0.74768395]\n",
            " [-0.58927166  0.22646976 -0.76572921 -0.12300057]\n",
            " [-0.38647447 -0.92193827  0.02279065  0.01216128]]\n",
            "Sigma values:\n",
            " [1.79151045 0.92984842 0.48349722 0.26013451]\n",
            "VT matrix:\n",
            " [[-0.52581099 -0.48648385 -0.60834681 -0.3417169 ]\n",
            " [ 0.3589739   0.35457315 -0.11302045 -0.85594509]\n",
            " [-0.72049273  0.68697498  0.08993054 -0.02946356]\n",
            " [ 0.27486501  0.40703406 -0.7804185   0.38693599]]\n",
            "Reconstructed A:\n",
            " [[0.53219603 0.79624756 0.48710242 0.20542595]\n",
            " [0.22339095 0.50110409 0.60461927 0.03098414]\n",
            " [0.88863688 0.32088018 0.61009928 0.17902632]\n",
            " [0.04925266 0.04172352 0.51661322 0.97126493]]\n"
          ]
        }
      ],
      "source": [
        "import numpy as np\n",
        "\n",
        "A = np.random.rand(4, 4)\n",
        "\n",
        "U, Sigma, VT = np.linalg.svd(A)\n",
        "\n",
        "print(\"U matrix:\\n\", U)\n",
        "\n",
        "print(\"Sigma values:\\n\", Sigma)\n",
        "\n",
        "print(\"VT matrix:\\n\", VT)\n",
        "\n",
        "A_reconstructed = U @ np.diag(Sigma) @ VT\n",
        "print(\"Reconstructed A:\\n\", A_reconstructed)"
      ]
    },
    {
      "cell_type": "markdown",
      "source": [
        "Explanation:\n",
        "\n",
        "Matrix Creation: A = np.random.rand(4, 4) creates a random 4x4 matrix\n",
        "A with values drawn from a uniform distribution over [0, 1].\n",
        "\n",
        "SVD Decomposition: U, Sigma, VT = np.linalg.svd(A) performs Singular Value Decomposition on\n",
        "A. SVD decomposes\n",
        "A into three matrices:\n",
        "\n",
        "U: A 4x4 unitary matrix (columns are orthonormal vectors).\n",
        "\n",
        "Σ: A 1D array of singular values (not a matrix yet).\n",
        "\n",
        "VT: A 3x3 unitary matrix (rows are orthonormal vectors).\n",
        "\n",
        "Printing Components:\n",
        "\n",
        "print(\"U matrix:\\n\", U) prints the U matrix.\n",
        "print(\"Sigma values:\\n\", Sigma) prints the singular values as a 1D array.\n",
        "\n",
        "print(\"VT matrix:\\n\", VT) prints the VT matrix.\n",
        "\n",
        "Reconstructing the Original Matrix:\n",
        "\n",
        "A_reconstructed = U @ np.diag(Sigma) @ VT reconstructs the original matrix\n",
        "A by multiplying the matrices U, Σ (converted to a diagonal matrix using np.diag(Sigma)), and VT. The reconstructed matrix should be close to the original matrix A, which is then printed."
      ],
      "metadata": {
        "id": "DIGKyjk9BHTk"
      }
    },
    {
      "cell_type": "code",
      "source": [
        "k = 2\n",
        "\n",
        "U_k = U[:, :k]\n",
        "Sigma_k = np.diag(Sigma[:k])\n",
        "VT_k = VT[:k, :]\n",
        "\n",
        "A_approx = U_k @ Sigma_k @ VT_k\n",
        "print(\"Low-rank approximation of A:\\n\", A_approx)"
      ],
      "metadata": {
        "colab": {
          "base_uri": "https://localhost:8080/"
        },
        "id": "ApNC0BWjA201",
        "outputId": "76f27120-e586-470f-a22a-e74b9f338d6a"
      },
      "execution_count": 3,
      "outputs": [
        {
          "output_type": "stream",
          "name": "stdout",
          "text": [
            "Low-rank approximation of A:\n",
            " [[0.63058813 0.58886772 0.60145481 0.14568464]\n",
            " [0.4474322  0.41762663 0.4315376  0.11321823]\n",
            " [0.63068511 0.58824126 0.61842327 0.18049876]\n",
            " [0.05632237 0.03286591 0.51809116 0.97036549]]\n"
          ]
        }
      ]
    },
    {
      "cell_type": "markdown",
      "source": [
        "Explanation:\n",
        "\n",
        "Selecting Rank k:\n",
        "\n",
        "k = 2 specifies the rank of the approximation, meaning that only the first 2 singular values will be used in the approximation.\n",
        "\n",
        "Truncating\n",
        "U, Σ, and VT:\n",
        "\n",
        "U_k = U[:, :k] selects the first k columns of U (4x2 matrix).\n",
        "\n",
        "Sigma_k = np.diag(Sigma[:k]) creates a diagonal matrix using the first k singular values (2x2 matrix).\n",
        "\n",
        "VT_k = VT[:k, :] selects the first k rows of VT (2x3 matrix).\n",
        "\n",
        "Low-Rank Approximation:\n",
        "\n",
        "A_approx = U_k @ Sigma_k @ VT_k multiplies the truncated matrices to approximate the original matrix A. This matrix is a \"low-rank\" approximation, which is close to the original matrix but with reduced complexity. It’s printed as A_approx."
      ],
      "metadata": {
        "id": "NgJZYv_hCrsi"
      }
    },
    {
      "cell_type": "code",
      "source": [
        "from sklearn.decomposition import PCA\n",
        "\n",
        "data = np.array([[2.5, 2.4, 3.5],\n",
        "                 [0.5, 0.7, 1.0],\n",
        "                 [2.2, 2.9, 3.2],\n",
        "                 [1.9, 2.2, 2.9],\n",
        "                 [3.1, 3.0, 3.8]])\n",
        "\n",
        "pca = PCA(n_components=2)\n",
        "data_reduced = pca.fit_transform(data)\n",
        "\n",
        "print(\"Original Data:\\n\", data)\n",
        "print(\"Reduced Data after PCA:\\n\", data_reduced)\n",
        "\n",
        "print(\"Explained variance by each component:\\n\", pca.explained_variance_ratio_)"
      ],
      "metadata": {
        "colab": {
          "base_uri": "https://localhost:8080/"
        },
        "id": "dtLY8BTIBAAw",
        "outputId": "6e703f9b-0e44-490a-e261-1627ea7f749c"
      },
      "execution_count": 4,
      "outputs": [
        {
          "output_type": "stream",
          "name": "stdout",
          "text": [
            "Original Data:\n",
            " [[2.5 2.4 3.5]\n",
            " [0.5 0.7 1. ]\n",
            " [2.2 2.9 3.2]\n",
            " [1.9 2.2 2.9]\n",
            " [3.1 3.  3.8]]\n",
            "Reduced Data after PCA:\n",
            " [[-0.73865359 -0.24862969]\n",
            " [ 2.8759363  -0.04734653]\n",
            " [-0.64179181  0.38947837]\n",
            " [ 0.08647016  0.03270237]\n",
            " [-1.58196105 -0.12620452]]\n",
            "Explained variance by each component:\n",
            " [0.97561447 0.01934415]\n"
          ]
        }
      ]
    },
    {
      "cell_type": "markdown",
      "source": [
        "Explanation:\n",
        "\n",
        "Dataset Creation: data = np.array([[...]]) creates a 5x3 matrix where each row represents a sample with 3 features. This simulates a small dataset.\n",
        "\n",
        "Applying PCA: pca = PCA(n_components=2) initializes the PCA object to reduce the dataset to 2 dimensions (principal components).\n",
        "\n",
        "data_reduced = pca.fit_transform(data) fits the PCA model to the data and transforms the original data to the reduced 2D space. The transformed data is stored in data_reduced.\n",
        "\n",
        "Printing Data:\n",
        "\n",
        "print(\"Original Data:\\n\", data) prints the original dataset.\n",
        "\n",
        "print(\"Reduced Data after PCA:\\n\", data_reduced) prints the dataset after PCA transformation, which now has 2 dimensions instead of 3.\n",
        "\n",
        "Explained Variance:\n",
        "\n",
        "print(\"Explained variance by each component:\\n\", pca.explained_variance_ratio_) prints the proportion of variance explained by each of the selected principal components. This tells you how much of the original data's variance is captured by the new components."
      ],
      "metadata": {
        "id": "sYoAwwt8DSeK"
      }
    }
  ]
}